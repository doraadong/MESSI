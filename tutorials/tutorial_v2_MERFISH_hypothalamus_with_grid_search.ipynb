{
 "cells": [
  {
   "cell_type": "code",
   "execution_count": 1,
   "metadata": {},
   "outputs": [],
   "source": [
    "%matplotlib inline\n",
    "\n",
    "import copy\n",
    "import os\n",
    "import pickle\n",
    "from collections import defaultdict\n",
    "import itertools\n",
    "\n",
    "import matplotlib\n",
    "import matplotlib.pyplot as plt\n",
    "import seaborn as sns\n",
    "import numpy as np\n",
    "import pandas as pd\n",
    "import scipy as sp\n",
    "from sklearn.cluster import AgglomerativeClustering\n",
    "\n",
    "\n",
    "from context import messi\n",
    "from messi.data_processing import *\n",
    "from messi.hme import hme\n",
    "from messi.gridSearch import gridSearch"
   ]
  },
  {
   "cell_type": "markdown",
   "metadata": {},
   "source": [
    "# Example usage of MESSI \n",
    "\n",
    "MESSI can be directly executed by the command-line tool we provide, where by default we assume a one layer logistic gate with MROTS experts. Other than this particular configuration, we also support various other ones (different models for experts/gates, multiple layers of gates etc.) through the messi.hme module. Here, we take the excitatory neurons in female parenting animals of the MERFISH hypothalamus dataset as an example, to illustrate how to:  \n",
    "\n",
    "1. Train and test a MESSI model \n",
    "2. Analyze the model parameters to infer cell subtypes differ in signaling genes \n",
    "3. Train and test with other configurations\n",
    "\n",
    "The command-line tool covers usage 1. "
   ]
  },
  {
   "cell_type": "markdown",
   "metadata": {},
   "source": [
    "## User-definied arguements\n",
    "\n",
    "Same as the arguements for the command-line usage. See details information of each arguements in the docs. "
   ]
  },
  {
   "cell_type": "code",
   "execution_count": 2,
   "metadata": {},
   "outputs": [],
   "source": [
    "input_path = '../../input/merfish/'\n",
    "output_path = '../output/'\n",
    "data_type = 'merfish'\n",
    "sex = 'Female'\n",
    "behavior = 'Parenting'\n",
    "behavior_no_space = behavior.replace(\" \", \"_\")\n",
    "current_cell_type = 'Excitatory'\n",
    "current_cell_type_no_space = current_cell_type.replace(\" \", \"_\")\n",
    "\n",
    "grid_search = True\n",
    "n_sets = 2  # for example usage only; we recommend 5\n",
    "\n",
    "n_classes_0 = 1\n",
    "n_classes_1 = 5\n",
    "n_epochs = 5  # for example usage only; we recommend using the default 20 n_epochs \n",
    "\n",
    "preprocess = 'neighbor_cat'\n",
    "top_k_response = 20  # for example usage only; we recommend use all responses (i.e. None)\n",
    "top_k_regulator = None\n",
    "response_type = 'original'  # use raw values to fit the model\n",
    "condition = f\"response_{top_k_response}_l1_{n_classes_0}_l2_{n_classes_1}\"\n",
    "\n",
    "if grid_search:\n",
    "    condition = f\"response_{top_k_response}_l1_{n_classes_0}_l2_grid_search\"\n",
    "else:\n",
    "    condition = f\"response_{top_k_response}_l1_{n_classes_0}_l2_{n_classes_1}\"\n"
   ]
  },
  {
   "cell_type": "markdown",
   "metadata": {},
   "source": [
    "## Read in and preprocess data"
   ]
  },
  {
   "cell_type": "markdown",
   "metadata": {},
   "source": [
    "### Read in the ligad & receptor list and meta information for the dataset\n",
    "\n",
    "The meta information can be obtained by running readyData.py. See the details in the docs. "
   ]
  },
  {
   "cell_type": "code",
   "execution_count": 3,
   "metadata": {},
   "outputs": [
    {
     "name": "stdout",
     "output_type": "stream",
     "text": [
      "Removed genes: {'Blank_1', 'Fos', 'Blank_3', 'Blank_4', 'Blank_5', 'Blank_2'}\n",
      "Total number of cell types for merfish: 16\n"
     ]
    }
   ],
   "source": [
    "read_in_functions = {'merfish': [read_meta_merfish, read_merfish_data, get_idx_per_dataset_merfish],\n",
    "                    'merfish_cell_line': [read_meta_merfish_cell_line, read_merfish_cell_line_data, get_idx_per_dataset_merfish_cell_line],\n",
    "                    'starmap': [read_meta_starmap_combinatorial, read_starmap_combinatorial, get_idx_per_dataset_starmap_combinatorial]}\n",
    "\n",
    "# set data reading functions corresponding to the data type\n",
    "if data_type in ['merfish', 'merfish_cell_line', 'starmap']:\n",
    "    read_meta = read_in_functions[data_type][0]\n",
    "    read_data = read_in_functions[data_type][1]\n",
    "    get_idx_per_dataset = read_in_functions[data_type][2]\n",
    "else:\n",
    "    raise NotImplementedError(f\"Now only support processing 'merfish', 'merfish_cell_line' or 'starmap'\")\n",
    "\n",
    "# read in ligand and receptor lists\n",
    "l_u, r_u = get_lr_pairs(input_path='../messi/input/')  # may need to change to the default value\n",
    "\n",
    "# read in meta information about the dataset\n",
    "meta_all, meta_all_columns, cell_types_dict, genes_list, genes_list_u, \\\n",
    "response_list_prior, regulator_list_prior = \\\n",
    "    read_meta(input_path, behavior_no_space, sex, l_u, r_u)  # TO BE MODIFIED: number of responses\n",
    "\n",
    "# get all available animals/samples\n",
    "all_animals = list(set(meta_all[:, meta_all_columns['Animal_ID']]))"
   ]
  },
  {
   "cell_type": "markdown",
   "metadata": {},
   "source": [
    "### Read in and preprocess expression files, coordinates and cell types"
   ]
  },
  {
   "cell_type": "markdown",
   "metadata": {},
   "source": [
    "#### Split the data into train and test sets "
   ]
  },
  {
   "cell_type": "code",
   "execution_count": 4,
   "metadata": {},
   "outputs": [
    {
     "name": "stdout",
     "output_type": "stream",
     "text": [
      "Test set is [16]\n",
      "Training set is [17 18 19]\n"
     ]
    }
   ],
   "source": [
    "test_animal  = 16\n",
    "test_animals = [test_animal]\n",
    "samples_test = np.array(test_animals)\n",
    "samples_train = np.array(list(set(all_animals)-set(test_animals)))\n",
    "print(f\"Test set is {samples_test}\")\n",
    "print(f\"Training set is {samples_train}\")"
   ]
  },
  {
   "cell_type": "code",
   "execution_count": 5,
   "metadata": {
    "scrolled": true
   },
   "outputs": [
    {
     "name": "stdout",
     "output_type": "stream",
     "text": [
      "Preprocess for Excitatory of merfish\n",
      "8601\n",
      "2677\n"
     ]
    }
   ],
   "source": [
    "bregma = None\n",
    "idx_train, idx_test, idx_train_in_general, \\\n",
    "idx_test_in_general, idx_train_in_dataset, \\\n",
    "idx_test_in_dataset, meta_per_dataset_train, \\\n",
    "meta_per_dataset_test = find_idx_for_train_test(samples_train, samples_test, \n",
    "                                                meta_all, meta_all_columns, data_type, \n",
    "                                                current_cell_type, get_idx_per_dataset,\n",
    "                                                return_in_general = False, \n",
    "                                                bregma=bregma)\n"
   ]
  },
  {
   "cell_type": "markdown",
   "metadata": {},
   "source": [
    "#### Read in datasets according to the animal ID\n",
    "These datasets can be obtained by running readyData.py. See docs for detail."
   ]
  },
  {
   "cell_type": "code",
   "execution_count": 6,
   "metadata": {},
   "outputs": [
    {
     "name": "stdout",
     "output_type": "stream",
     "text": [
      "Reading file: merfish_animal17_bregma011.csv\n",
      "The dimensions of the sample is: (5417, 170)\n",
      "Reading file: merfish_animal17_bregma016.csv\n",
      "The dimensions of the sample is: (5361, 170)\n",
      "Reading file: merfish_animal17_bregma021.csv\n",
      "The dimensions of the sample is: (5373, 170)\n",
      "Reading file: merfish_animal17_bregma026.csv\n",
      "The dimensions of the sample is: (4828, 170)\n",
      "Reading file: merfish_animal18_bregma011.csv\n",
      "The dimensions of the sample is: (5665, 170)\n",
      "Reading file: merfish_animal18_bregma016.csv\n",
      "The dimensions of the sample is: (5967, 170)\n",
      "Reading file: merfish_animal18_bregma021.csv\n",
      "The dimensions of the sample is: (5881, 170)\n",
      "Reading file: merfish_animal18_bregma026.csv\n",
      "The dimensions of the sample is: (5555, 170)\n",
      "Reading file: merfish_animal19_bregma011.csv\n",
      "The dimensions of the sample is: (5533, 170)\n",
      "Reading file: merfish_animal19_bregma016.csv\n",
      "The dimensions of the sample is: (5392, 170)\n",
      "Reading file: merfish_animal19_bregma021.csv\n",
      "The dimensions of the sample is: (5194, 170)\n",
      "Reading file: merfish_animal19_bregma026.csv\n",
      "The dimensions of the sample is: (4807, 170)\n",
      "Reading file: merfish_animal16_bregma011.csv\n",
      "The dimensions of the sample is: (5711, 170)\n",
      "Reading file: merfish_animal16_bregma016.csv\n",
      "The dimensions of the sample is: (5504, 170)\n",
      "Reading file: merfish_animal16_bregma021.csv\n",
      "The dimensions of the sample is: (5391, 170)\n",
      "Reading file: merfish_animal16_bregma026.csv\n",
      "The dimensions of the sample is: (5323, 170)\n"
     ]
    }
   ],
   "source": [
    "data_sets = []\n",
    "\n",
    "for animal_id, bregma in meta_per_dataset_train:\n",
    "    hp, hp_cor, hp_genes = read_data(input_path, bregma, animal_id, genes_list, genes_list_u)\n",
    "    \n",
    "    if hp is not None:\n",
    "        hp_columns = dict(zip(hp.columns, range(0, len(hp.columns))))\n",
    "        hp_np = hp.to_numpy()\n",
    "    else:\n",
    "        hp_columns = None\n",
    "        hp_np = None\n",
    "    hp_cor_columns = dict(zip(hp_cor.columns, range(0, len(hp_cor.columns))))\n",
    "    hp_genes_columns = dict(zip(hp_genes.columns, range(0, len(hp_genes.columns))))\n",
    "    data_sets.append([hp_np, hp_columns, hp_cor.to_numpy(), hp_cor_columns,\n",
    "                      hp_genes.to_numpy(), hp_genes_columns])\n",
    "    del hp, hp_cor, hp_genes\n",
    "\n",
    "datasets_train = data_sets\n",
    "\n",
    "data_sets = []\n",
    "\n",
    "for animal_id, bregma in meta_per_dataset_test:\n",
    "    hp, hp_cor, hp_genes = read_data(input_path, bregma, animal_id, genes_list, genes_list_u)\n",
    "    \n",
    "    if hp is not None:\n",
    "        hp_columns = dict(zip(hp.columns, range(0, len(hp.columns))))\n",
    "        hp_np = hp.to_numpy()\n",
    "    else:\n",
    "        hp_columns = None\n",
    "        hp_np = None\n",
    "        \n",
    "    hp_cor_columns = dict(zip(hp_cor.columns, range(0, len(hp_cor.columns))))\n",
    "    hp_genes_columns = dict(zip(hp_genes.columns, range(0, len(hp_genes.columns))))\n",
    "    data_sets.append([hp_np, hp_columns, hp_cor.to_numpy(), hp_cor_columns,\n",
    "                      hp_genes.to_numpy(), hp_genes_columns])\n",
    "    del hp, hp_cor, hp_genes\n",
    "\n",
    "datasets_test = data_sets\n",
    "\n",
    "del data_sets"
   ]
  },
  {
   "cell_type": "markdown",
   "metadata": {},
   "source": [
    "## Prepare features & responses"
   ]
  },
  {
   "cell_type": "markdown",
   "metadata": {},
   "source": [
    "### Prepare different types of features"
   ]
  },
  {
   "cell_type": "markdown",
   "metadata": {},
   "source": [
    "#### Construct neighborhood graph and get physical neighbors for each cell"
   ]
  },
  {
   "cell_type": "code",
   "execution_count": 7,
   "metadata": {},
   "outputs": [],
   "source": [
    "if data_type == 'merfish_rna_seq':\n",
    "    neighbors_train = None\n",
    "    neighbors_test = None\n",
    "else: \n",
    "    if data_type == 'merfish':\n",
    "        dis_filter = 100\n",
    "    else:\n",
    "        dis_filter = 1e9  \n",
    "        \n",
    "    neighbors_train = get_neighbors_datasets(datasets_train, \"Del\", k=10, dis_filter=dis_filter, include_self = False)\n",
    "    neighbors_test = get_neighbors_datasets(datasets_test, \"Del\", k=10, dis_filter=dis_filter, include_self = False)\n"
   ]
  },
  {
   "cell_type": "markdown",
   "metadata": {},
   "source": [
    "#### Set features' parameters"
   ]
  },
  {
   "cell_type": "code",
   "execution_count": 8,
   "metadata": {},
   "outputs": [],
   "source": [
    "lig_n =  {'name':'regulators_neighbor','helper':preprocess_X_neighbor_per_cell, \n",
    "                      'feature_list_type': 'regulator_neighbor', 'per_cell':True, 'baseline':False, \n",
    "                      'standardize': True, 'log':True, 'poly':False}\n",
    "rec_s = {'name':'regulators_self','helper':preprocess_X_self_per_cell, \n",
    "                      'feature_list_type': 'regulator_self', 'per_cell':True, 'baseline':False, \n",
    "                      'standardize': True, 'log':True, 'poly':False}\n",
    "lig_s = {'name':'regulators_neighbor_self','helper':preprocess_X_self_per_cell, \n",
    "                      'feature_list_type':'regulator_neighbor', 'per_cell':True, 'baseline':False, \n",
    "                      'standardize': True, 'log':True, 'poly':False}\n",
    "type_n =  {'name': 'neighbor_type','helper':preprocess_X_neighbor_type_per_dataset, \n",
    "                      'feature_list_type':None,'per_cell':False, 'baseline':False, \n",
    "                      'standardize': True, 'log':False, 'poly':False}\n",
    "base_s = {'name':'baseline','helper':preprocess_X_baseline_per_dataset,'feature_list_type':None, \n",
    "                      'per_cell':False, 'baseline':True, 'standardize': True, 'log':False, 'poly':False}"
   ]
  },
  {
   "cell_type": "code",
   "execution_count": 9,
   "metadata": {},
   "outputs": [],
   "source": [
    "if data_type == 'merfish_cell_line':\n",
    "    feature_types = [lig_n, rec_s, base_s, lig_s]\n",
    "    \n",
    "else:\n",
    "    feature_types = [lig_n, rec_s, type_n , base_s, lig_s]"
   ]
  },
  {
   "cell_type": "markdown",
   "metadata": {},
   "source": [
    "#### Get different types of features"
   ]
  },
  {
   "cell_type": "code",
   "execution_count": 10,
   "metadata": {
    "scrolled": true
   },
   "outputs": [
    {
     "name": "stdout",
     "output_type": "stream",
     "text": [
      "Now prepare for feature: regulators_neighbor\n",
      "Now prepare for feature: regulators_self\n",
      "Now prepare for feature: neighbor_type\n",
      "Now prepare for feature: baseline\n",
      "Now prepare for feature: regulators_neighbor_self\n"
     ]
    }
   ],
   "source": [
    "X_trains, X_tests, regulator_list_neighbor, regulator_list_self  = prepare_features(data_type, datasets_train, datasets_test, meta_per_dataset_train, meta_per_dataset_test, \n",
    "                     idx_train, idx_test, idx_train_in_dataset, idx_test_in_dataset,neighbors_train, neighbors_test,\n",
    "                    feature_types, regulator_list_prior, top_k_regulator, \n",
    "                     genes_list_u, l_u, r_u,cell_types_dict)"
   ]
  },
  {
   "cell_type": "markdown",
   "metadata": {},
   "source": [
    "#### Get the list of ligands and receptors used as features"
   ]
  },
  {
   "cell_type": "code",
   "execution_count": 11,
   "metadata": {},
   "outputs": [],
   "source": [
    "total_regulators = regulator_list_neighbor + regulator_list_self"
   ]
  },
  {
   "cell_type": "markdown",
   "metadata": {},
   "source": [
    "### Prepare response variables"
   ]
  },
  {
   "cell_type": "code",
   "execution_count": 12,
   "metadata": {},
   "outputs": [],
   "source": [
    "log_response = True  # take log transformation of the response genes"
   ]
  },
  {
   "cell_type": "code",
   "execution_count": 13,
   "metadata": {},
   "outputs": [
    {
     "name": "stdout",
     "output_type": "stream",
     "text": [
      "Response type: original; transformby natural log: True\n"
     ]
    }
   ],
   "source": [
    "Y_train, Y_train_true, Y_test, Y_test_true, response_list = prepare_responses(data_type, datasets_train,\n",
    "                                                                                  datasets_test, idx_train_in_general,\n",
    "                                                                                  idx_test_in_general,\n",
    "                                                                                  idx_train_in_dataset,\n",
    "                                                                                  idx_test_in_dataset, neighbors_train,\n",
    "                                                                                  neighbors_test,\n",
    "                                                                                  response_type, log_response,\n",
    "                                                                                  response_list_prior, top_k_response,\n",
    "                                                                                  genes_list_u, l_u, r_u)"
   ]
  },
  {
   "cell_type": "code",
   "execution_count": 14,
   "metadata": {},
   "outputs": [],
   "source": [
    "if grid_search:\n",
    "    X_trains_gs = copy.deepcopy(X_trains)\n",
    "    Y_train_gs = copy.copy(Y_train)"
   ]
  },
  {
   "cell_type": "markdown",
   "metadata": {},
   "source": [
    "### Transform and combine different type of features"
   ]
  },
  {
   "cell_type": "code",
   "execution_count": 15,
   "metadata": {},
   "outputs": [
    {
     "name": "stdout",
     "output_type": "stream",
     "text": [
      "Now transform for feature: regulators_neighbor by polynomial: False, natural log: True, standardize(z-score): True\n",
      "Test data standardized!\n",
      "Now transform for feature: regulators_self by polynomial: False, natural log: True, standardize(z-score): True\n",
      "Test data standardized!\n",
      "Now transform for feature: neighbor_type by polynomial: False, natural log: False, standardize(z-score): True\n",
      "Test data standardized!\n",
      "Now transform for feature: baseline by polynomial: False, natural log: False, standardize(z-score): True\n",
      "Test data standardized!\n",
      "Now transform for feature: regulators_neighbor_self by polynomial: False, natural log: True, standardize(z-score): True\n",
      "Test data standardized!\n",
      "Minimum value after transformation can below 0: -2.324479733226068\n",
      "Dimension of X train is: (8601, 102)\n",
      "Dimension of Y train is: (8601, 20)\n"
     ]
    }
   ],
   "source": [
    "# transform features\n",
    "transform_features(X_trains, X_tests, feature_types)\n",
    "print(f\"Minimum value after transformation can below 0: {np.min(X_trains['regulators_self'])}\")\n",
    "\n",
    "if data_type == 'merfish':\n",
    "    num_coordinates = 3\n",
    "elif data_type == 'starmap' or data_type == 'merfish_cell_line':\n",
    "    num_coordinates = 2\n",
    "else:\n",
    "    num_coordinates = None\n",
    "\n",
    "if np.ndim(X_trains['baseline']) > 1 and np.ndim(X_tests['baseline']) > 1:\n",
    "    X_train, X_train_clf_1, X_train_clf_2 = combine_features(X_trains, preprocess, num_coordinates)\n",
    "    X_test, X_test_clf_1, X_test_clf_2 = combine_features(X_tests, preprocess, num_coordinates)\n",
    "elif np.ndim(X_trains['baseline']) > 1:\n",
    "    X_train, X_train_clf_1, X_train_clf_2 = combine_features(X_trains, preprocess, num_coordinates)\n",
    "\n",
    "print(f\"Dimension of X train is: {X_train.shape}\")\n",
    "print(f\"Dimension of Y train is: {Y_train.shape}\")"
   ]
  },
  {
   "cell_type": "markdown",
   "metadata": {},
   "source": [
    "## Construct and train MESSI model"
   ]
  },
  {
   "cell_type": "markdown",
   "metadata": {},
   "source": [
    "### set default parameters"
   ]
  },
  {
   "cell_type": "code",
   "execution_count": 16,
   "metadata": {},
   "outputs": [],
   "source": [
    "# ------ set parameters ------\n",
    "model_name_gates = 'logistic'\n",
    "model_name_experts = 'mrots'\n",
    "num_response = Y_train.shape[1]\n",
    "\n",
    "# default values \n",
    "soft_weights = True\n",
    "partial_fit_expert = True\n",
    "\n",
    "# specify default parameters for MESSI\n",
    "model_params = {'n_classes_0': n_classes_0,\n",
    "                'n_classes_1': n_classes_1,\n",
    "                'model_name_gates': model_name_gates,\n",
    "                'model_name_experts': model_name_experts,\n",
    "                'num_responses': Y_train.shape[1],\n",
    "                'soft_weights': soft_weights,\n",
    "                'partial_fit_expert': partial_fit_expert,\n",
    "                'n_epochs': n_epochs,\n",
    "                'tolerance': 3}"
   ]
  },
  {
   "cell_type": "markdown",
   "metadata": {},
   "source": [
    "### set up directory to save results"
   ]
  },
  {
   "cell_type": "code",
   "execution_count": 17,
   "metadata": {},
   "outputs": [
    {
     "name": "stdout",
     "output_type": "stream",
     "text": [
      "Model and validation results (if appliable) saved to: ../output/merfish/Parenting/Female/Excitatory/neighbor_cat/response_20_l1_1_l2_grid_search_logistic_mrots\n"
     ]
    }
   ],
   "source": [
    "# set up directory for saving the model\n",
    "sub_condition = f\"{condition}_{model_name_gates}_{model_name_experts}\"\n",
    "sub_dir = f\"{data_type}/{behavior_no_space}/{sex}/{current_cell_type_no_space}/{preprocess}/{sub_condition}\"\n",
    "current_dir = os.path.join(output_path, sub_dir)\n",
    "\n",
    "if not os.path.exists(current_dir):\n",
    "    os.makedirs(current_dir)\n",
    "\n",
    "print(f\"Model and validation results (if appliable) saved to: {current_dir}\")\n",
    "\n",
    "suffix = f\"_{test_animal}\""
   ]
  },
  {
   "cell_type": "markdown",
   "metadata": {},
   "source": [
    "### conduct grid seach for hyper-parameters if needed "
   ]
  },
  {
   "cell_type": "code",
   "execution_count": 18,
   "metadata": {},
   "outputs": [],
   "source": [
    "# search range for number of experts; for example usage only, we recommend 4\n",
    "search_range_dict = {'Excitatory': range(7, 9), 'U-2_OS': range(1,3), \\\n",
    "                        'STARmap_excitatory': range(1,3)}  \n"
   ]
  },
  {
   "cell_type": "code",
   "execution_count": 19,
   "metadata": {
    "scrolled": false
   },
   "outputs": [
    {
     "name": "stdout",
     "output_type": "stream",
     "text": [
      "Default model parameters for validation {'n_classes_0': 1, 'n_classes_1': 5, 'model_name_gates': 'logistic', 'model_name_experts': 'mrots', 'num_responses': 20, 'soft_weights': True, 'partial_fit_expert': True, 'n_epochs': 1, 'tolerance': 0}\n",
      "Now transform for feature: regulators_neighbor by polynomial: False, natural log: True, standardize(z-score): True\n",
      "Test data standardized!\n",
      "Now transform for feature: regulators_self by polynomial: False, natural log: True, standardize(z-score): True\n",
      "Test data standardized!\n",
      "Now transform for feature: neighbor_type by polynomial: False, natural log: False, standardize(z-score): True\n",
      "Test data standardized!\n",
      "Now transform for feature: baseline by polynomial: False, natural log: False, standardize(z-score): True\n",
      "Test data standardized!\n",
      "Now transform for feature: regulators_neighbor_self by polynomial: False, natural log: True, standardize(z-score): True\n",
      "Test data standardized!\n",
      "Now running at {'n_classes_1': 7, 'soft_weights': True, 'partial_fit_expert': True}\n",
      "Number of experts for current model is 7 \n",
      "Soft weight is True\n",
      "------ epoch 1 ------\n",
      "Best score: 1000000000.0\n",
      "Current score: 48046.37148357623\n",
      "level 1 gate error: 0\n",
      "level 2 gate error: [0.8840415122292622]\n",
      "experts error: [6475.005422664872, 4601.205936024619, 12522.509962438098, 2911.2998210179235, 14800.924551602873, 2050.085817210057, 4684.455931105554]\n",
      "1 epochs in total\n",
      "Now running at {'n_classes_1': 7, 'soft_weights': False, 'partial_fit_expert': False}\n",
      "Number of experts for current model is 7 \n",
      "Soft weight is False\n",
      "------ epoch 1 ------\n",
      "Best score: 1000000000.0\n",
      "Current score: 46832.069246436244\n",
      "level 1 gate error: 0\n",
      "level 2 gate error: [0.8840415122292622]\n",
      "experts error: [6250.073138997472, 4420.67740729031, 12389.394573109084, 2751.8999802795693, 14528.591497275153, 1987.0370337060426, 4503.511574266378]\n",
      "1 epochs in total\n",
      "Now running at {'n_classes_1': 8, 'soft_weights': True, 'partial_fit_expert': True}\n",
      "Number of experts for current model is 8 \n",
      "Soft weight is True\n",
      "------ epoch 1 ------\n",
      "Best score: 1000000000.0\n",
      "Current score: 46382.36537238525\n",
      "level 1 gate error: 0\n",
      "level 2 gate error: [0.8815163302881092]\n",
      "experts error: [12522.509962438098, 4601.205936024619, 2978.5840719618495, 2911.2998210179235, 14800.924551602873, 2050.085817210057, 4684.455931105554, 1832.4177646939827]\n",
      "1 epochs in total\n",
      "Now running at {'n_classes_1': 8, 'soft_weights': False, 'partial_fit_expert': False}\n",
      "Number of experts for current model is 8 \n",
      "Soft weight is False\n",
      "------ epoch 1 ------\n",
      "Best score: 1000000000.0\n",
      "Current score: 45115.986160851324\n",
      "level 1 gate error: 0\n",
      "level 2 gate error: [0.8815163302881092]\n",
      "experts error: [12389.394573109084, 4420.67740729031, 2793.327095680336, 2751.8999802795693, 14528.591497275153, 1987.0370337060426, 4503.511574266378, 1740.6654829141635]\n",
      "1 epochs in total\n",
      "Now transform for feature: regulators_neighbor by polynomial: False, natural log: True, standardize(z-score): True\n",
      "Test data standardized!\n",
      "Now transform for feature: regulators_self by polynomial: False, natural log: True, standardize(z-score): True\n",
      "Test data standardized!\n",
      "Now transform for feature: neighbor_type by polynomial: False, natural log: False, standardize(z-score): True\n",
      "Test data standardized!\n",
      "Now transform for feature: baseline by polynomial: False, natural log: False, standardize(z-score): True\n",
      "Test data standardized!\n",
      "Now transform for feature: regulators_neighbor_self by polynomial: False, natural log: True, standardize(z-score): True\n",
      "Test data standardized!\n",
      "Now running at {'n_classes_1': 7, 'soft_weights': True, 'partial_fit_expert': True}\n",
      "Number of experts for current model is 7 \n",
      "Soft weight is True\n",
      "------ epoch 1 ------\n",
      "Best score: 1000000000.0\n",
      "Current score: 44106.03838434324\n",
      "level 1 gate error: 0\n",
      "level 2 gate error: [0.8748907208063852]\n",
      "experts error: [13043.508004174728, 13164.362689742955, 6998.239739305047, 4205.334127256754, 3542.455343741869, 448.1439264397022, 2703.119662961375]\n",
      "1 epochs in total\n",
      "Now running at {'n_classes_1': 7, 'soft_weights': False, 'partial_fit_expert': False}\n",
      "Number of experts for current model is 7 \n",
      "Soft weight is False\n",
      "------ epoch 1 ------\n",
      "Best score: 1000000000.0\n",
      "Current score: 43227.64555990784\n",
      "level 1 gate error: 0\n",
      "level 2 gate error: [0.8748907208063852]\n",
      "experts error: [12849.267311661026, 13077.544513899385, 6826.270641865306, 4073.6338259142685, 3411.242756451992, 443.747921236381, 2545.063698158675]\n",
      "1 epochs in total\n",
      "Now running at {'n_classes_1': 8, 'soft_weights': True, 'partial_fit_expert': True}\n",
      "Number of experts for current model is 8 \n",
      "Soft weight is True\n",
      "------ epoch 1 ------\n",
      "Best score: 1000000000.0\n",
      "Current score: 42080.69623280578\n",
      "level 1 gate error: 0\n",
      "level 2 gate error: [0.9825409510913329]\n",
      "experts error: [13164.362689742955, 4205.334127256754, 6998.239739305047, 8777.69562853266, 3542.455343741869, 448.1439264397022, 2703.119662961375, 2240.362573874324]\n",
      "1 epochs in total\n",
      "Now running at {'n_classes_1': 8, 'soft_weights': False, 'partial_fit_expert': False}\n",
      "Number of experts for current model is 8 \n",
      "Soft weight is False\n",
      "------ epoch 1 ------\n",
      "Best score: 1000000000.0\n",
      "Current score: 41000.32502788923\n",
      "level 1 gate error: 0\n",
      "level 2 gate error: [0.9825409510913329]\n",
      "experts error: [13077.544513899385, 4073.6338259142685, 6826.270641865306, 8525.514854720786, 3411.242756451992, 443.747921236381, 2545.063698158675, 2096.3242746913493]\n",
      "1 epochs in total\n",
      "Best params from grid search: {'n_classes_1': 7, 'soft_weights': True, 'partial_fit_expert': True}\n",
      "Model parameters for training after grid search {'n_classes_0': 1, 'n_classes_1': 7, 'model_name_gates': 'logistic', 'model_name_experts': 'mrots', 'num_responses': 20, 'soft_weights': True, 'partial_fit_expert': True, 'n_epochs': 5, 'tolerance': 3}\n"
     ]
    }
   ],
   "source": [
    "if grid_search:\n",
    "    # prepare input meta data\n",
    "    if data_type == 'merfish':\n",
    "        meta_per_part = [tuple(i) for i in meta_per_dataset_train]\n",
    "        meta_idx = meta2idx(idx_train_in_dataset, meta_per_part)\n",
    "    else:\n",
    "        meta_per_part, meta_idx = combineParts(samples_train, datasets_train, idx_train_in_dataset)\n",
    "\n",
    "    # prepare parameters list to be tuned\n",
    "    if data_type == 'merfish_cell_line':\n",
    "        current_cell_type_data = 'U-2_OS'\n",
    "    elif data_type == 'starmap':\n",
    "        current_cell_type_data = 'STARmap_excitatory'\n",
    "    else:\n",
    "        current_cell_type_data = current_cell_type\n",
    "\n",
    "    params = {'n_classes_1': list(search_range_dict[current_cell_type_data]), 'soft_weights': [True, False],\n",
    "              'partial_fit_expert': [True, False]}\n",
    "\n",
    "    keys, values = zip(*params.items())\n",
    "    params_list = [dict(zip(keys, v)) for v in itertools.product(*values)]\n",
    "\n",
    "    new_params_list = []\n",
    "    for d in params_list:\n",
    "        if d['n_classes_1'] == 1:\n",
    "            if d['soft_weights'] and d['partial_fit_expert']:\n",
    "                # n_expert = 1, soft or hard are equivalent\n",
    "                new_params_list.append(d)\n",
    "        else:\n",
    "            if d['soft_weights'] == d['partial_fit_expert']:\n",
    "                new_params_list.append(d)\n",
    "    ratio = 0.2\n",
    "\n",
    "    # initialize with default values\n",
    "    model_params_val = model_params.copy()\n",
    "    model_params_val['n_epochs'] = 1  # increase for validation models to converge\n",
    "    model_params_val['tolerance'] = 0\n",
    "    print(f\"Default model parameters for validation {model_params_val}\")\n",
    "    model = hme(**model_params_val)\n",
    "\n",
    "    gs = gridSearch(params, model, ratio, n_sets, new_params_list)\n",
    "    gs.generate_val_sets(samples_train, meta_per_part)\n",
    "    gs.runCV(X_trains_gs, Y_train_gs, meta_per_part, meta_idx, feature_types, data_type,\n",
    "             preprocess)\n",
    "    gs.get_best_parameter()\n",
    "    print(f\"Best params from grid search: {gs.best_params}\")\n",
    "\n",
    "    # modify the parameter setting\n",
    "    for key, value in gs.best_params.items():\n",
    "        model_params[key] = value\n",
    "\n",
    "    print(f\"Model parameters for training after grid search {model_params}\")\n",
    "\n",
    "    filename = f\"validation_results{suffix}.pickle\"\n",
    "    pickle.dump(gs, open(os.path.join(current_dir, filename), 'wb'))"
   ]
  },
  {
   "cell_type": "markdown",
   "metadata": {},
   "source": [
    "### fit the full data with specified/selected hyperparameter  "
   ]
  },
  {
   "cell_type": "code",
   "execution_count": 20,
   "metadata": {},
   "outputs": [
    {
     "name": "stdout",
     "output_type": "stream",
     "text": [
      "------ epoch 1 ------\n",
      "Best score: 1000000000.0\n",
      "Current score: 70449.32689299122\n",
      "level 1 gate error: 0\n",
      "level 2 gate error: [0.7666727001590095]\n",
      "experts error: [30342.37119322606, 18812.521240089533, 6722.1874024836325, 6982.267234170074, 2319.9303448901564, 1958.309517615823, 3310.973287815786]\n",
      "------ epoch 2 ------\n",
      "Best score: 70449.32689299122\n",
      "Current score: 68766.64488272337\n",
      "level 1 gate error: 0\n",
      "level 2 gate error: [0.6937213091457413]\n",
      "experts error: [28479.820584679102, 18671.125240371162, 6902.062770965636, 6902.358664160113, 2387.1244606985583, 2007.6771499316394, 3415.782290608008]\n",
      "------ epoch 3 ------\n",
      "Best score: 68766.64488272337\n",
      "Current score: 68074.86643157009\n",
      "level 1 gate error: 0\n",
      "level 2 gate error: [0.6657260457530695]\n",
      "experts error: [27539.74368671527, 18563.843790935978, 7135.207076717354, 6869.454414847256, 2380.163177705899, 2058.1363483596115, 3527.652210242958]\n",
      "------ epoch 4 ------\n",
      "Best score: 68074.86643157009\n",
      "Current score: 67807.16237038777\n",
      "level 1 gate error: 0\n",
      "level 2 gate error: [0.6625162417563094]\n",
      "experts error: [26930.458353663747, 18601.653633665883, 7315.730976917422, 6861.642330058623, 2369.72207609377, 2093.06347599737, 3634.229007749197]\n",
      "------ epoch 5 ------\n",
      "Best score: 67807.16237038777\n",
      "Current score: 67637.40606725687\n",
      "level 1 gate error: 0\n",
      "level 2 gate error: [0.6645818356795359]\n",
      "experts error: [26472.60065350077, 18647.222847626013, 7472.99214650028, 6869.147150532272, 2361.656652182194, 2129.8975728429837, 3683.224462236692]\n",
      "5 epochs in total\n"
     ]
    }
   ],
   "source": [
    "if grid_search and 'n_classes_1' in params:\n",
    "    model = AgglomerativeClustering(n_clusters=gs.best_params['n_classes_1'])\n",
    "else:\n",
    "    model = AgglomerativeClustering(n_classes_1)\n",
    "\n",
    "model = model.fit(Y_train)\n",
    "hier_labels = [model.labels_]\n",
    "model_params['init_labels_1'] = hier_labels\n",
    "\n",
    "# ------ construct MESSI  ------\n",
    "model = hme(**model_params)\n",
    "\n",
    "# train\n",
    "model.train(X_train, X_train_clf_1, X_train_clf_2, Y_train)"
   ]
  },
  {
   "cell_type": "markdown",
   "metadata": {},
   "source": [
    "### save the model"
   ]
  },
  {
   "cell_type": "code",
   "execution_count": 21,
   "metadata": {},
   "outputs": [],
   "source": [
    "filename = f\"hme_model{suffix}.pickle\"\n",
    "\n",
    "pickle.dump(model, open(os.path.join(current_dir, filename), 'wb'))"
   ]
  },
  {
   "cell_type": "markdown",
   "metadata": {},
   "source": [
    "## Make predictions on the test data"
   ]
  },
  {
   "cell_type": "markdown",
   "metadata": {},
   "source": [
    "### load the saved model"
   ]
  },
  {
   "cell_type": "code",
   "execution_count": 22,
   "metadata": {},
   "outputs": [],
   "source": [
    "saved_model = pickle.load(open(os.path.join(current_dir, filename), 'rb'))"
   ]
  },
  {
   "cell_type": "markdown",
   "metadata": {},
   "source": [
    "### make predictions"
   ]
  },
  {
   "cell_type": "code",
   "execution_count": 23,
   "metadata": {},
   "outputs": [
    {
     "name": "stdout",
     "output_type": "stream",
     "text": [
      "Mean absolute value : 0.5652725853656686\n"
     ]
    }
   ],
   "source": [
    "Y_hat_final = saved_model.predict(X_test, X_test_clf_1, X_test_clf_2)\n",
    "print(f\"Mean absolute value : {(abs(Y_test - Y_hat_final).mean(axis=1)).mean()}\")"
   ]
  },
  {
   "cell_type": "markdown",
   "metadata": {},
   "source": [
    "## Analyze learned model parameters"
   ]
  },
  {
   "cell_type": "code",
   "execution_count": 24,
   "metadata": {},
   "outputs": [],
   "source": [
    "# get full list of signaling genes \n",
    "regulator_list_neighbor_c = [g.capitalize() for g in regulator_list_neighbor]\n",
    "response_list_c = [g.capitalize() for g in response_list]\n",
    "total_regulators_c = [g.capitalize() for g in total_regulators]\n",
    "\n",
    "neighbor_ligands = [r + '_neighbor' for r in regulator_list_neighbor]\n",
    "total_regulators_neighbor = total_regulators + neighbor_ligands\n",
    "total_regulators_neighbor_c = [g.capitalize() for g in total_regulators_neighbor]"
   ]
  },
  {
   "cell_type": "markdown",
   "metadata": {},
   "source": [
    "### Visualize experts coefficients (W) "
   ]
  },
  {
   "cell_type": "code",
   "execution_count": 25,
   "metadata": {},
   "outputs": [],
   "source": [
    "sns.set_context(\"paper\", font_scale=1.2) "
   ]
  },
  {
   "cell_type": "markdown",
   "metadata": {},
   "source": [
    "select an expert by the class of the 1st layer and the class of the 2nd layer. Given we only have 1 class for the 1st layer, the experts are indexed as: [0,0],[0,1],..."
   ]
  },
  {
   "cell_type": "code",
   "execution_count": 50,
   "metadata": {},
   "outputs": [],
   "source": [
    "_expert = [0,6]"
   ]
  },
  {
   "cell_type": "code",
   "execution_count": 51,
   "metadata": {},
   "outputs": [],
   "source": [
    "# better visualize if sorted by dispersion\n",
    "if \"None\" in sub_condition:\n",
    "    # dispersion = Y_train.var(axis=0) / abs(Y_train_raw.mean(axis=0)+1e-6)\n",
    "    dispersion = Y_train.var(axis=0)\n",
    "    idx_dispersion = np.argsort(-dispersion, axis=0)[:97]\n",
    "else:\n",
    "    idx_dispersion = range(0, len(response_list))\n",
    "\n",
    "response_list_dispersion = np.array(response_list_c)[idx_dispersion]"
   ]
  },
  {
   "cell_type": "code",
   "execution_count": 55,
   "metadata": {},
   "outputs": [
    {
     "data": {
      "image/png": "[encoded data removed]",
      "text/plain": [
       "<Figure size 1152x1296 with 2 Axes>"
      ]
     },
     "metadata": {
      "needs_background": "light"
     },
     "output_type": "display_data"
    }
   ],
   "source": [
    "# model_experts is a dictionary index by 1st layer class and 2nd layer class\n",
    "_weights = saved_model.model_experts[_expert[0]][_expert[1]].W[:,idx_dispersion]\n",
    "\n",
    "df_plot = pd.DataFrame(_weights)\n",
    "df_plot.index = total_regulators_neighbor_c\n",
    "df_plot.columns = response_list_dispersion\n",
    "plt.figure(figsize=(16,18))\n",
    "sns.heatmap(df_plot, xticklabels=True, yticklabels=True, center = 0, cmap = \"RdBu_r\")\n",
    "plt.xticks(rotation=90)\n",
    "plt.ylabel(\"Features\")\n",
    "plt.xlabel(\"Response variables\")\n",
    "plt.title(f\"Coefficients of expert {_expert[1]}\")\n",
    "plt.show()\n",
    "plt.close()"
   ]
  },
  {
   "cell_type": "markdown",
   "metadata": {},
   "source": [
    "### Visualize experts' conditional covariance matrix (omega)"
   ]
  },
  {
   "cell_type": "code",
   "execution_count": 53,
   "metadata": {},
   "outputs": [],
   "source": [
    "sns.set_context(\"paper\", font_scale=1.2) "
   ]
  },
  {
   "cell_type": "code",
   "execution_count": 56,
   "metadata": {},
   "outputs": [
    {
     "data": {
      "image/png": "[encoded data removed]",
      "text/plain": [
       "<Figure size 1152x1008 with 2 Axes>"
      ]
     },
     "metadata": {
      "needs_background": "light"
     },
     "output_type": "display_data"
    }
   ],
   "source": [
    "_omega = saved_model.model_experts[_expert[0]][_expert[1]].omega\n",
    "_omega = _omega[:,idx_dispersion][idx_dispersion,:]\n",
    "cutoff = 100\n",
    "\n",
    "df_plot = pd.DataFrame(_omega[:,:cutoff][:cutoff,:])\n",
    "df_plot.index = response_list_dispersion[:cutoff]\n",
    "df_plot.columns = response_list_dispersion[:cutoff]\n",
    "plt.figure(figsize=(16,14))\n",
    "sns.heatmap(df_plot, xticklabels=True, yticklabels=True, center = 0, cmap = \"RdBu_r\")\n",
    "plt.ylabel(\"Response variables\")\n",
    "plt.xlabel(\"Response variables\")\n",
    "plt.title(f\"Conditional covariance matrix of expert {_expert[1]}\")\n",
    "plt.show()\n",
    "plt.close()"
   ]
  },
  {
   "cell_type": "markdown",
   "metadata": {},
   "source": [
    "### Visualize classifier coefficients for different experts"
   ]
  },
  {
   "cell_type": "code",
   "execution_count": 57,
   "metadata": {},
   "outputs": [],
   "source": [
    "coefs = saved_model.model_gates[0].coef_[:,:102]"
   ]
  },
  {
   "cell_type": "code",
   "execution_count": 58,
   "metadata": {},
   "outputs": [],
   "source": [
    "df_plot = pd.DataFrame(coefs.T)\n",
    "df_plot.index = total_regulators_neighbor_c"
   ]
  },
  {
   "cell_type": "code",
   "execution_count": 59,
   "metadata": {},
   "outputs": [
    {
     "data": {
      "image/png": "[encoded data removed]",
      "text/plain": [
       "<Figure size 216x1440 with 2 Axes>"
      ]
     },
     "metadata": {
      "needs_background": "light"
     },
     "output_type": "display_data"
    }
   ],
   "source": [
    "plt.figure(figsize=(3,20))\n",
    "ax=sns.heatmap(df_plot,center = 0, cmap = \"RdBu_r\")\n",
    "plt.xlabel('expert')\n",
    "plt.title(\"Coefficients of the classifier for different experts\")\n",
    "plt.show()\n",
    "plt.close()"
   ]
  },
  {
   "cell_type": "markdown",
   "metadata": {},
   "source": [
    "## Other configurations \n",
    "\n",
    "* Currently support 2 layers of classifiers\n",
    "* Different experts and gates models can be used\n",
    "    1. experts: MROTS, linear regresion, LASSO\n",
    "    2. gates: logistic regression, decision trees \n"
   ]
  },
  {
   "cell_type": "markdown",
   "metadata": {},
   "source": [
    "### 2 layers of classifiers"
   ]
  },
  {
   "cell_type": "code",
   "execution_count": 61,
   "metadata": {},
   "outputs": [
    {
     "name": "stdout",
     "output_type": "stream",
     "text": [
      "Parameters for MESSI: number of classes at level 1: 2, level 2: 3\n",
      "      model for gates: logistic, model for experts: mrots\n",
      "      if used soft weights: True\n",
      "------ epoch 1 ------\n",
      "Best score: 1000000000.0\n",
      "Current score: 89565.82661991609\n",
      "level 1 gate error: 0.6919554685116982\n",
      "level 2 gate error: [1.071365244253554, 1.0693476722882027]\n",
      "experts error: [15071.500369561696, 14470.866257787207, 15660.177560502587, 14490.28958170832, 14365.774162304855, 15504.386019666377]\n",
      "------ epoch 2 ------\n",
      "Best score: 89565.82661991609\n",
      "Current score: 86913.38381425475\n",
      "level 1 gate error: 0.6890802779947304\n",
      "level 2 gate error: [0.999185720322589, 0.997040253393415]\n",
      "experts error: [14421.340793488249, 14104.448477553073, 15280.395031601587, 13966.573264291565, 13784.997073526973, 15352.943867541591]\n",
      "------ epoch 3 ------\n",
      "Best score: 86913.38381425475\n",
      "Current score: 81968.41326261954\n",
      "level 1 gate error: 0.6858521034698951\n",
      "level 2 gate error: [0.9011553420828995, 0.8992320551782081]\n",
      "experts error: [13464.880506673178, 13278.335288431435, 14404.197518276755, 12803.965896482503, 13166.136269025024, 14848.411544229915]\n",
      "------ epoch 4 ------\n",
      "Best score: 81968.41326261954\n",
      "Current score: 77757.93609740568\n",
      "level 1 gate error: 0.6838016887630836\n",
      "level 2 gate error: [0.8125925336844957, 0.8479388828884918]\n",
      "experts error: [12903.718839598001, 12221.295064883216, 14109.232227554478, 11755.17698971706, 12524.911984431152, 14241.256658116434]\n",
      "------ epoch 5 ------\n",
      "Best score: 77757.93609740568\n",
      "Current score: 75112.2809476088\n",
      "level 1 gate error: 0.6822438734652804\n",
      "level 2 gate error: [0.7460056723865799, 0.8107540964102807]\n",
      "experts error: [12909.924407106188, 11315.956850958572, 14495.172717394136, 10826.817727139674, 12032.077150588064, 13530.093090779917]\n",
      "5 epochs in total\n"
     ]
    }
   ],
   "source": [
    "# ------ set parameters ------\n",
    "n_classes_0 = 2\n",
    "n_classes_1 = 3\n",
    "model_name_gates = 'logistic'\n",
    "model_name_experts = 'mrots'\n",
    "num_response = Y_train.shape[1]\n",
    "tolerance = 3\n",
    "\n",
    "if current_cell_type not in ['OD Mature 2', 'Astrocyte', 'Endothelial 1']:\n",
    "    # soft weights\n",
    "    sub_condition = f\"{condition}_{model_name_gates}_{model_name_experts}_soft\"\n",
    "    soft_weights = True\n",
    "    partial_fit_expert = True\n",
    "\n",
    "else:\n",
    "    # hard weights\n",
    "    sub_condition = f\"{condition}_{model_name_gates}_{model_name_experts}_soft\"\n",
    "    soft_weights = False\n",
    "    partial_fit_expert = False\n",
    "\n",
    "print(f\"Parameters for MESSI: number of classes at level 1: {n_classes_0}, level 2: {n_classes_1}\\n\\\n",
    "      model for gates: {model_name_gates}, model for experts: {model_name_experts}\\n\\\n",
    "      if used soft weights: {soft_weights}\")\n",
    "\n",
    "# ------ initialize randomly ------\n",
    "hier_labels = None\n",
    "\n",
    "# ------ construct MESSI  ------\n",
    "model = hme(n_classes_0, n_classes_1, model_name_gates, model_name_experts, num_response,\n",
    "            init_labels_1=hier_labels, soft_weights=soft_weights,\n",
    "            partial_fit_expert=partial_fit_expert, n_epochs=n_epochs, tolerance=tolerance)\n",
    "# train\n",
    "model.train(X_train, X_train_clf_1, X_train_clf_2, Y_train)"
   ]
  },
  {
   "cell_type": "markdown",
   "metadata": {},
   "source": [
    "#### make predictions"
   ]
  },
  {
   "cell_type": "code",
   "execution_count": 63,
   "metadata": {},
   "outputs": [
    {
     "name": "stdout",
     "output_type": "stream",
     "text": [
      "Mean absolute value : 0.5833640404250073\n"
     ]
    }
   ],
   "source": [
    "Y_hat_final = model.predict(X_test, X_test_clf_1, X_test_clf_2)\n",
    "print(f\"Mean absolute value : {(abs(Y_test - Y_hat_final).mean(axis=1)).mean()}\")"
   ]
  },
  {
   "cell_type": "markdown",
   "metadata": {},
   "source": [
    "### Use other models: e.g., use linear regression as the experts"
   ]
  },
  {
   "cell_type": "code",
   "execution_count": 64,
   "metadata": {},
   "outputs": [
    {
     "name": "stdout",
     "output_type": "stream",
     "text": [
      "Parameters for MESSI: number of classes at level 1: 1, level 2: 7\n",
      "      model for gates: logistic, model for experts: linear\n",
      "      if used soft weights: True\n"
     ]
    },
    {
     "name": "stderr",
     "output_type": "stream",
     "text": [
      "/home/dora/Documents/research/cell_interaction/messi/messi/hme.py:206: UserWarning: Warining: partial fit for linear regression is same as complete fit when                 using all training samples to fit\n",
      "  using all training samples to fit\")\n"
     ]
    },
    {
     "name": "stdout",
     "output_type": "stream",
     "text": [
      "------ epoch 1 ------\n",
      "Best score: 1000000000.0\n",
      "Current score: 88546.06169302596\n",
      "level 1 gate error: 0\n",
      "level 2 gate error: [1.9031245393016056]\n",
      "experts error: [12223.525966566483, 12273.87885764563, 12978.425157727943, 12777.78401875628, 12784.015480475458, 12282.292164017977, 13224.236923296872]\n",
      "------ epoch 2 ------\n",
      "Best score: 88546.06169302596\n",
      "Current score: 86237.05231006198\n",
      "level 1 gate error: 0\n",
      "level 2 gate error: [1.7842779736908123]\n",
      "experts error: [11819.375951326616, 11982.651784686803, 12711.31688440308, 12152.932160669756, 12645.37443189535, 12014.862519901939, 12908.75429920473]\n",
      "------ epoch 3 ------\n",
      "Best score: 86237.05231006198\n",
      "Current score: 80903.70679740388\n",
      "level 1 gate error: 0\n",
      "level 2 gate error: [1.5992135853849596]\n",
      "experts error: [10975.019401175416, 11504.981106646997, 12050.1566992315, 11249.570289123403, 11365.213994503045, 11199.399720826534, 12557.7663723116]\n",
      "------ epoch 4 ------\n",
      "Best score: 80903.70679740388\n",
      "Current score: 76800.33284294143\n",
      "level 1 gate error: 0\n",
      "level 2 gate error: [1.4362947852625185]\n",
      "experts error: [10129.318106784924, 10975.308186332926, 11604.298047398412, 10581.071166056663, 10264.140683264404, 10859.648169716318, 12385.112188602501]\n",
      "------ epoch 5 ------\n",
      "Best score: 76800.33284294143\n",
      "Current score: 74455.36763699845\n",
      "level 1 gate error: 0\n",
      "level 2 gate error: [1.296933859934033]\n",
      "experts error: [9252.791551436341, 10501.844300013088, 11976.40032022001, 9997.612045912998, 9441.044503779252, 10884.640216735983, 12399.737765040834]\n",
      "5 epochs in total\n"
     ]
    }
   ],
   "source": [
    "# ------ set parameters ------\n",
    "n_classes_0 = 1\n",
    "if grid_search:\n",
    "    n_classes_1 = gs.best_params['n_classes_1']\n",
    "else:\n",
    "    n_classes_1 = n_classes_1\n",
    "model_name_gates = 'logistic'\n",
    "model_name_experts = 'linear'\n",
    "num_response = Y_train.shape[1]\n",
    "tolerance = 3\n",
    "\n",
    "if current_cell_type not in ['OD Mature 2', 'Astrocyte', 'Endothelial 1']:\n",
    "    # soft weights\n",
    "    sub_condition = f\"{condition}_{model_name_gates}_{model_name_experts}_soft\"\n",
    "    soft_weights = True\n",
    "    partial_fit_expert = True\n",
    "\n",
    "else:\n",
    "    # hard weights\n",
    "    sub_condition = f\"{condition}_{model_name_gates}_{model_name_experts}_soft\"\n",
    "    soft_weights = False\n",
    "    partial_fit_expert = False\n",
    "\n",
    "print(f\"Parameters for MESSI: number of classes at level 1: {n_classes_0}, level 2: {n_classes_1}\\n\\\n",
    "      model for gates: {model_name_gates}, model for experts: {model_name_experts}\\n\\\n",
    "      if used soft weights: {soft_weights}\")\n",
    "\n",
    "# ------ initialize randomly ------\n",
    "hier_labels = None\n",
    "\n",
    "# ------ construct MESSI  ------\n",
    "model = hme(n_classes_0, n_classes_1, model_name_gates, model_name_experts, num_response,\n",
    "            init_labels_1=hier_labels, soft_weights=soft_weights,\n",
    "            partial_fit_expert=partial_fit_expert, n_epochs=n_epochs, tolerance=tolerance)\n",
    "# train\n",
    "model.train(X_train, X_train_clf_1, X_train_clf_2, Y_train)"
   ]
  },
  {
   "cell_type": "markdown",
   "metadata": {},
   "source": [
    "#### make predictions"
   ]
  },
  {
   "cell_type": "code",
   "execution_count": 65,
   "metadata": {},
   "outputs": [
    {
     "name": "stdout",
     "output_type": "stream",
     "text": [
      "Mean absolute value : 0.5912492067945334\n"
     ]
    }
   ],
   "source": [
    "Y_hat_final = model.predict(X_test, X_test_clf_1, X_test_clf_2)\n",
    "print(f\"Mean absolute value : {(abs(Y_test - Y_hat_final).mean(axis=1)).mean()}\")"
   ]
  }
 ],
 "metadata": {
  "kernelspec": {
   "display_name": "Python 3",
   "language": "python",
   "name": "python3"
  },
  "language_info": {
   "codemirror_mode": {
    "name": "ipython",
    "version": 3
   },
   "file_extension": ".py",
   "mimetype": "text/x-python",
   "name": "python",
   "nbconvert_exporter": "python",
   "pygments_lexer": "ipython3",
   "version": "3.7.3"
  }
 },
 "nbformat": 4,
 "nbformat_minor": 2
}
